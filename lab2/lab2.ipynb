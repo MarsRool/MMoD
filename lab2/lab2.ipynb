{
 "cells": [
  {
   "cell_type": "code",
   "execution_count": 19,
   "metadata": {},
   "outputs": [],
   "source": [
    "import simpy\n",
    "import math\n",
    "import numpy as np\n",
    "from functools import reduce\n",
    "import matplotlib.pyplot as plt\n",
    "\n",
    "# Multichannel Queuing System Simulation processes class\n",
    "class QueuingSystemSimulation:\n",
    "    def __init__(self, n, m, lambd, mu, v, env):\n",
    "        # queuing system params\n",
    "        self.n = n\n",
    "        self.m = m\n",
    "        self.lambd = lambd\n",
    "        self.mu = mu\n",
    "        self.v = v\n",
    "        # empirical values lists\n",
    "        self.L_queuing_system_list = []\n",
    "        self.L_queue_list = []\n",
    "        self.t_queuing_system_list = []\n",
    "        self.t_queue_list = []\n",
    "        # enviromental variables for simpy simulation\n",
    "        self.env = env\n",
    "        self.loader = simpy.Resource(env, n)\n",
    "\n",
    "    # Multichannel Queuing Simulation with parameters n, m, lambd, mu, v, test_time\n",
    "    @staticmethod\n",
    "    def simulate_queuing_system(n, m, lambd, mu, v, test_time):\n",
    "        env = simpy.Environment()\n",
    "        qs = QueuingSystemSimulation(n, m, lambd, mu, v, env)\n",
    "        env.process(qs.run())\n",
    "        env.run(until=test_time)\n",
    "        return qs\n",
    "\n",
    "    def run(self):\n",
    "        while True:\n",
    "            yield self.env.timeout(np.random.exponential(1/self.lambd))\n",
    "            self.env.process(self.make_request())\n",
    "\n",
    "    def make_request(self):\n",
    "        queque_len_before = len(self.loader.queue)\n",
    "        n_busy = self.loader.count\n",
    "\n",
    "        with self.loader.request() as request:\n",
    "            self.L_queue_list.append(queque_len_before)\n",
    "            self.L_queuing_system_list.append(queque_len_before + n_busy)\n",
    "            if len(self.loader.queue) <= self.m:\n",
    "                arrival_time = self.env.now\n",
    "\n",
    "                waiting_process = self.env.process(self.waiting_in_queue())\n",
    "                result = yield request | waiting_process    \n",
    "\n",
    "                self.t_queue_list.append(self.env.now - arrival_time)\n",
    "                if request in result:\n",
    "                    yield self.env.process(self.request_processing())\n",
    "                    self.t_queuing_system_list.append(self.env.now - arrival_time)\n",
    "                else:\n",
    "                    self.t_queuing_system_list.append(self.env.now - arrival_time)\n",
    "            else:\n",
    "                self.t_queue_list.append(0)\n",
    "                self.t_queuing_system_list.append(0)\n",
    "\n",
    "    def request_processing(self):\n",
    "        yield self.env.timeout(np.random.exponential(1/self.mu))\n",
    "\n",
    "    def waiting_in_queue(self):\n",
    "        yield self.env.timeout(np.random.exponential(1/self.v))\n",
    "\n",
    "    def get_results(self):\n",
    "        return self.L_queuing_system_list, self.L_queue_list, self.t_queuing_system_list, self.t_queue_list"
   ]
  },
  {
   "cell_type": "markdown",
   "metadata": {},
   "source": [
    "Empirical Characteristics"
   ]
  },
  {
   "cell_type": "code",
   "execution_count": 20,
   "metadata": {},
   "outputs": [],
   "source": [
    "# Calculate Empirical Characteristics\n",
    "def calculate_empirical_characteristics(qs):\n",
    "    L_queuing_system_list, L_queue_list, t_queuing_system_list, t_queue_list = qs.get_results()\n",
    "    p = []\n",
    "    for i in range(qs.n + qs.m + 1):\n",
    "        request_frequency = reduce( lambda count, x: count+1 if x == i else count , L_queuing_system_list, 0)\n",
    "        p.append(request_frequency / len(L_queuing_system_list))\n",
    "    p_reject = p[qs.n + qs.m]\n",
    "    Q = 1 - p_reject\n",
    "    A = qs.lambd * Q\n",
    "    n_occuped = Q * qs.lambd / qs.mu\n",
    "    L_queue = sum(L_queue_list) / len(L_queue_list)\n",
    "    L_queuing_system = sum(L_queuing_system_list) / len(L_queuing_system_list)\n",
    "    t_queuing_system = sum(t_queuing_system_list) / len(t_queuing_system_list)\n",
    "    t_queue = sum(t_queue_list) / len(t_queue_list)\n",
    "\n",
    "    return p, A, p_reject, L_queuing_system, L_queue, t_queuing_system, t_queue, n_occuped"
   ]
  }
 ],
 "metadata": {
  "interpreter": {
   "hash": "2be5faf79681da6f2a61fdfdd5405d65d042280f7fba6178067603e3a2925119"
  },
  "kernelspec": {
   "display_name": "Python 3.10.0 64-bit",
   "language": "python",
   "name": "python3"
  },
  "language_info": {
   "codemirror_mode": {
    "name": "ipython",
    "version": 3
   },
   "file_extension": ".py",
   "mimetype": "text/x-python",
   "name": "python",
   "nbconvert_exporter": "python",
   "pygments_lexer": "ipython3",
   "version": "3.9.0"
  },
  "orig_nbformat": 4
 },
 "nbformat": 4,
 "nbformat_minor": 2
}
