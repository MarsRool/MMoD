{
 "cells": [
  {
   "cell_type": "code",
   "execution_count": 11,
   "metadata": {},
   "outputs": [],
   "source": [
    "import simpy\n",
    "import numpy as np\n",
    "\n",
    "# Queuing System Simulation processes class\n",
    "class QueuingSystemSimulation:\n",
    "    def __init__(self, n, m, lambd, mu, v, env):\n",
    "        # queuing system params\n",
    "        self.n = n\n",
    "        self.m = m\n",
    "        self.lambd = lambd\n",
    "        self.mu = mu\n",
    "        self.v = v\n",
    "        # empirical values lists\n",
    "        self.L_queuing_system_list = []\n",
    "        self.L_queue_list = []\n",
    "        self.t_queuing_system_list = []\n",
    "        self.t_queue_list = []\n",
    "        # enviromental variables for simpy simulation\n",
    "        self.env = env\n",
    "        self.loader = simpy.Resource(env, n)\n",
    "\n",
    "    def run(self):\n",
    "        while True:\n",
    "            yield self.env.timeout(np.random.exponential(1/self.lambd))\n",
    "            self.env.process(self.make_request())\n",
    "\n",
    "    def make_request(self):\n",
    "        queque_len_before = len(self.loader.queue)\n",
    "        n_busy = self.loader.count\n",
    "\n",
    "        with self.loader.request() as request:\n",
    "            self.L_queue_list.append(queque_len_before)\n",
    "            self.L_queuing_system_list.append(queque_len_before + n_busy)\n",
    "            if len(self.loader.queue) <= self.m:\n",
    "                arrival_time = self.env.now\n",
    "\n",
    "                waiting_process = self.env.process(self.waiting_in_queue())\n",
    "                result = yield request | waiting_process    \n",
    "\n",
    "                self.t_queue_list.append(self.env.now - arrival_time)\n",
    "                if request in result:\n",
    "                    yield self.env.process(self.request_processing())\n",
    "                    self.t_queuing_system_list.append(self.env.now - arrival_time)\n",
    "                else:\n",
    "                    self.t_queuing_system_list.append(self.env.now - arrival_time)\n",
    "            else:\n",
    "                self.t_queue_list.append(0)\n",
    "                self.t_queuing_system_list.append(0)\n",
    "\n",
    "    def request_processing(self):\n",
    "        yield self.env.timeout(np.random.exponential(1/self.mu))\n",
    "\n",
    "    def waiting_in_queue(self):\n",
    "        yield self.env.timeout(np.random.exponential(1/self.v))"
   ]
  },
  {
   "cell_type": "code",
   "execution_count": 13,
   "metadata": {},
   "outputs": [
    {
     "name": "stdout",
     "output_type": "stream",
     "text": [
      "1.982428352224917 0.20769192694154334 0.9858552241520535 0.10120679108804034\n"
     ]
    }
   ],
   "source": [
    "def queuing_system_simulate(n, m, lambd, mu, v, test_time):\n",
    "    env = simpy.Environment()\n",
    "    qs = QueuingSystemSimulation(n, m, lambd, mu, v, env)\n",
    "    env.process(qs.run())\n",
    "    env.run(until=test_time)\n",
    "    return qs.L_queuing_system_list, qs.L_queue_list, qs.t_queuing_system_list, qs.t_queue_list\n",
    "\n",
    "L_queuing_system_list, L_queue_list, t_queuing_system_list, t_queue_list = queuing_system_simulate(3, 3, 2, 1, 1, 10000)\n",
    "print(np.average(L_queuing_system_list), np.average(L_queue_list),\n",
    "      np.average(t_queuing_system_list), np.average(t_queue_list))"
   ]
  }
 ],
 "metadata": {
  "interpreter": {
   "hash": "2be5faf79681da6f2a61fdfdd5405d65d042280f7fba6178067603e3a2925119"
  },
  "kernelspec": {
   "display_name": "Python 3.10.0 64-bit",
   "language": "python",
   "name": "python3"
  },
  "language_info": {
   "codemirror_mode": {
    "name": "ipython",
    "version": 3
   },
   "file_extension": ".py",
   "mimetype": "text/x-python",
   "name": "python",
   "nbconvert_exporter": "python",
   "pygments_lexer": "ipython3",
   "version": "3.9.0"
  },
  "orig_nbformat": 4
 },
 "nbformat": 4,
 "nbformat_minor": 2
}
