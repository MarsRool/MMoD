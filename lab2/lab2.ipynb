{
 "cells": [
  {
   "cell_type": "code",
   "execution_count": 80,
   "metadata": {},
   "outputs": [],
   "source": [
    "import simpy\n",
    "import math\n",
    "import numpy as np\n",
    "from functools import reduce\n",
    "from tabulate import tabulate\n",
    "import matplotlib.pyplot as plt\n",
    "\n",
    "# Multichannel Queuing System Simulation processes class\n",
    "class QueuingSystemSimulation:\n",
    "    def __init__(self, n, m, lambd, mu, v, env):\n",
    "        # queuing system params\n",
    "        self.n = n\n",
    "        self.m = m\n",
    "        self.lambd = lambd\n",
    "        self.mu = mu\n",
    "        self.v = v\n",
    "        # empirical values lists\n",
    "        self.L_queuing_system_list = []\n",
    "        self.L_queue_list = []\n",
    "        self.t_queuing_system_list = []\n",
    "        self.t_queue_list = []\n",
    "        # enviromental variables for simpy simulation\n",
    "        self.env = env\n",
    "        self.loader = simpy.Resource(env, n)\n",
    "\n",
    "    # Multichannel Queuing Simulation with parameters n, m, lambd, mu, v, test_time\n",
    "    @staticmethod\n",
    "    def simulate_queuing_system(n, m, lambd, mu, v, test_time):\n",
    "        env = simpy.Environment()\n",
    "        qs = QueuingSystemSimulation(n, m, lambd, mu, v, env)\n",
    "        env.process(qs.run())\n",
    "        env.run(until=test_time)\n",
    "        return qs\n",
    "\n",
    "    def run(self):\n",
    "        while True:\n",
    "            yield self.env.timeout(np.random.exponential(1/self.lambd))\n",
    "            self.env.process(self.make_request())\n",
    "\n",
    "    def make_request(self):\n",
    "        queque_len_before = len(self.loader.queue)\n",
    "        n_busy = self.loader.count\n",
    "\n",
    "        with self.loader.request() as request:\n",
    "            self.L_queue_list.append(queque_len_before)\n",
    "            self.L_queuing_system_list.append(queque_len_before + n_busy)\n",
    "            if len(self.loader.queue) <= self.m:\n",
    "                arrival_time = self.env.now\n",
    "\n",
    "                waiting_process = self.env.process(self.waiting_in_queue())\n",
    "                result = yield request | waiting_process    \n",
    "\n",
    "                self.t_queue_list.append(self.env.now - arrival_time)\n",
    "                if request in result:\n",
    "                    yield self.env.process(self.request_processing())\n",
    "                    self.t_queuing_system_list.append(self.env.now - arrival_time)\n",
    "                else:\n",
    "                    self.t_queuing_system_list.append(self.env.now - arrival_time)\n",
    "            else:\n",
    "                self.t_queue_list.append(0)\n",
    "                self.t_queuing_system_list.append(0)\n",
    "\n",
    "    def request_processing(self):\n",
    "        yield self.env.timeout(np.random.exponential(1/self.mu))\n",
    "\n",
    "    def waiting_in_queue(self):\n",
    "        yield self.env.timeout(np.random.exponential(1/self.v))\n",
    "\n",
    "    def get_results(self):\n",
    "        return self.L_queuing_system_list, self.L_queue_list, self.t_queuing_system_list, self.t_queue_list"
   ]
  },
  {
   "cell_type": "markdown",
   "metadata": {},
   "source": [
    "Empirical Characteristics"
   ]
  },
  {
   "cell_type": "code",
   "execution_count": 81,
   "metadata": {},
   "outputs": [],
   "source": [
    "# Calculate Empirical Characteristics\n",
    "def calculate_empirical_characteristics(qs):\n",
    "    L_queuing_system_list, L_queue_list, t_queuing_system_list, t_queue_list = qs.get_results()\n",
    "    p = []\n",
    "    for i in range(qs.n + qs.m + 1):\n",
    "        request_frequency = reduce( lambda count, x: count+1 if x == i else count, L_queuing_system_list, 0)\n",
    "        p.append(request_frequency / len(L_queuing_system_list))\n",
    "    p_reject = p[qs.n + qs.m]\n",
    "    Q = 1 - p_reject\n",
    "    A = qs.lambd * Q\n",
    "    n_occuped = Q * qs.lambd / qs.mu\n",
    "    L_queue = sum(L_queue_list) / len(L_queue_list)\n",
    "    L_queuing_system = sum(L_queuing_system_list) / len(L_queuing_system_list)\n",
    "    t_queuing_system = sum(t_queuing_system_list) / len(t_queuing_system_list)\n",
    "    t_queue = sum(t_queue_list) / len(t_queue_list)\n",
    "\n",
    "    return p, Q, A, p_reject, n_occuped, L_queuing_system, L_queue, t_queuing_system, t_queue"
   ]
  },
  {
   "cell_type": "markdown",
   "metadata": {},
   "source": [
    "Theoretical Characteristics"
   ]
  },
  {
   "cell_type": "code",
   "execution_count": 82,
   "metadata": {},
   "outputs": [],
   "source": [
    "# Calculate Theoretical Characteristics\n",
    "def calculate_theoretical_characteristics(n, m, lambd, mu, v):\n",
    "    alpha = lambd / mu\n",
    "    betta = v / mu \n",
    "    p=[]\n",
    "    p_0 = (\n",
    "                 sum([alpha ** i / math.factorial(i) for i in range (n+1)]) +\n",
    "                 alpha ** n / math.factorial(n) *\n",
    "                 sum([alpha ** i / reduce( \n",
    "                     lambda prod, x: prod * x, [ (n + l * betta) for l in range(1, i + 1) ] \n",
    "                 ) for i in range(1,m+1)])\n",
    "           ) ** (-1)\n",
    "    p.append(p_0)\n",
    "    for k in range(1,n + 1):\n",
    "        p_k = alpha ** k / math.factorial(k) * p[0]\n",
    "        p.append(p_k)\n",
    "    for i in range(1,m + 1):\n",
    "        p_n_i = p[n] * alpha ** i / reduce( \n",
    "                     lambda prod, x: prod * x, [ (n + l * betta) for l in range(1,i + 1) ] \n",
    "                 )\n",
    "        p.append(p_n_i)\n",
    "    p_reject = p[n + m]\n",
    "    Q = 1 - p_reject\n",
    "    A = lambd * Q\n",
    "    L_queue = sum([ i * p[n + i] for i in range(1,m + 1)])\n",
    "    n_occuped = Q * lambd / mu\n",
    "    L_queuing_system = sum([k * p[k] for k in range(1, n + 1)]) + sum([(n + i) * p[n + i] for i in range(1, m + 1)])\n",
    "    t_queuing_system = L_queuing_system / lambd\n",
    "    t_queue = L_queue / lambd\n",
    "\n",
    "    return p, Q, A, p_reject, n_occuped, L_queuing_system, L_queue, t_queuing_system, t_queue"
   ]
  },
  {
   "cell_type": "code",
   "execution_count": 83,
   "metadata": {},
   "outputs": [],
   "source": [
    "def display_characteristics(theoretical_characteristics, empirical_characteristics):\n",
    "    p1, Q1, A1, p_reject1, n_occuped1, L_queuing_system1, L_queue1, t_queuing_system1, t_queue1 = theoretical_characteristics\n",
    "    p2, Q2, A2, p_reject2, n_occuped2, L_queuing_system2, L_queue2, t_queuing_system2, t_queue2 = empirical_characteristics\n",
    "\n",
    "    output_list = [[f'p{(i)}', p1[i], p2[i]] for i in range (len(p1))]\n",
    "    output_list.extend([['Q (относительная пропускная способность)', Q1, Q2],\n",
    "                        ['A (абсолютная пропускная способность)', A1, A2],\n",
    "                        ['p отказа', p_reject1, p_reject2],\n",
    "                        ['L СМО (среднее число заявок в СМО)', L_queuing_system1, L_queuing_system2],\n",
    "                        ['L очереди (среднее число заявок в очереди)', L_queue1, L_queue2],\n",
    "                        ['t СМО (среднее время заявки в СМО)', t_queuing_system1, t_queuing_system2],\n",
    "                        ['t очереди (среднее время заявки в очереди)', t_queue1, t_queue2],\n",
    "                        ['n занятости (среднее число занятых каналов)', n_occuped1, n_occuped2]])\n",
    "    print(tabulate(output_list,\n",
    "          headers=['', 'Теоретические характеристики', 'Эмпирические характеристики']))\n",
    "    print()"
   ]
  },
  {
   "cell_type": "markdown",
   "metadata": {},
   "source": [
    "Tests"
   ]
  },
  {
   "cell_type": "code",
   "execution_count": 84,
   "metadata": {},
   "outputs": [
    {
     "name": "stdout",
     "output_type": "stream",
     "text": [
      "                                               Теоретические характеристики    Эмпирические характеристики\n",
      "-------------------------------------------  ------------------------------  -----------------------------\n",
      "p0                                                                0.135952                       0.138428\n",
      "p1                                                                0.271903                       0.26932\n",
      "p2                                                                0.271903                       0.271983\n",
      "p3                                                                0.181269                       0.178676\n",
      "p4                                                                0.0906344                      0.0922018\n",
      "p5                                                                0.0362538                      0.0377851\n",
      "p6                                                                0.0120846                      0.0116069\n",
      "Q (относительная пропускная способность)                          0.987915                       0.988393\n",
      "A (абсолютная пропускная способность)                             1.97583                        1.97679\n",
      "p отказа                                                          0.0120846                      0.0116069\n",
      "L СМО (среднее число заявок в СМО)                                1.97583                        1.97669\n",
      "L очереди (среднее число заявок в очереди)                        0.199396                       0.202593\n",
      "t СМО (среднее время заявки в СМО)                                0.987915                       0.994971\n",
      "t очереди (среднее время заявки в очереди)                        0.0996979                      0.102264\n",
      "n занятости (среднее число занятых каналов)                       1.97583                        1.97679\n",
      "\n"
     ]
    }
   ],
   "source": [
    "n = 3\n",
    "m = 3\n",
    "lambd = 2\n",
    "mu = 1\n",
    "v = 1\n",
    "\n",
    "theoretical_characteristics = calculate_theoretical_characteristics(n, m, lambd, mu, v)\n",
    "\n",
    "qs = QueuingSystemSimulation.simulate_queuing_system(n, m, lambd, mu, v, 10000)\n",
    "empirical_characteristics = calculate_empirical_characteristics(qs)\n",
    "\n",
    "display_characteristics(theoretical_characteristics, empirical_characteristics)"
   ]
  }
 ],
 "metadata": {
  "interpreter": {
   "hash": "2be5faf79681da6f2a61fdfdd5405d65d042280f7fba6178067603e3a2925119"
  },
  "kernelspec": {
   "display_name": "Python 3.10.0 64-bit",
   "language": "python",
   "name": "python3"
  },
  "language_info": {
   "codemirror_mode": {
    "name": "ipython",
    "version": 3
   },
   "file_extension": ".py",
   "mimetype": "text/x-python",
   "name": "python",
   "nbconvert_exporter": "python",
   "pygments_lexer": "ipython3",
   "version": "3.9.0"
  },
  "orig_nbformat": 4
 },
 "nbformat": 4,
 "nbformat_minor": 2
}
