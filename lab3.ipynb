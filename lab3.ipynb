{
 "cells": [
  {
   "cell_type": "code",
   "execution_count": 1,
   "metadata": {},
   "outputs": [],
   "source": [
    "import numpy as np\n",
    "import matplotlib.pyplot as plt\n",
    "from canteen_simulation import CanteenSimulation\n",
    "from canteen_analysis import *"
   ]
  },
  {
   "cell_type": "markdown",
   "metadata": {},
   "source": [
    "20 variant. About canteen."
   ]
  },
  {
   "cell_type": "code",
   "execution_count": 2,
   "metadata": {},
   "outputs": [],
   "source": [
    "def simulate(X, mu, q, t, test_time=10000):\n",
    "    canteen = CanteenSimulation.simulate_canteen(X, mu, q, t, test_time)\n",
    "    empirical_characteristics = calculate_empirical_characteristics(canteen)\n",
    "    theoretical_characteristics = calculate_theoretical_characteristics(X, mu, q, t)\n",
    "    return canteen, theoretical_characteristics, empirical_characteristics\n",
    "\n",
    "def test_analyse(X, mu, q, t, test_time=10000):\n",
    "    canteen, theoretical_characteristics, empirical_characteristics = simulate(X, mu, q, t, test_time)\n",
    "\n",
    "    print(f'Характеристики СМО столовой: Количество касс n={1},\\n',\n",
    "          f'Интенсивность потока посетителей X={X},\\n',\n",
    "          f'Интенсивность отпуска блюд mu={mu},\\n',\n",
    "          f'Вероятность того, что посетитель возьмет 2 блюда вместо 1-го q={q},\\n',\n",
    "          f'Среднее время съедения 1-го блюда t={t},\\n')\n",
    "    display_characteristics(theoretical_characteristics, empirical_characteristics)\n",
    "\n",
    "    has_static_state = canteen_has_static_state(canteen.X, canteen.mu, canteen.q)\n",
    "    print(f'\\n1. Столовая {\"\" if has_static_state else \"не \"}имеет устойчиый стационарный режим работы')\n",
    "\n",
    "    if has_static_state:\n",
    "        t_estimation_list = theoretical_characteristics[0] + [\n",
    "            theoretical_characteristics[i] for i in range(1, len(theoretical_characteristics))\n",
    "        ]\n",
    "        e_estimation_list = empirical_characteristics[0] + [\n",
    "            empirical_characteristics[i] for i in range(1, len(empirical_characteristics))\n",
    "        ]\n",
    "        xi_2_estimation = get_xi_2(e_estimation_list, t_estimation_list)\n",
    "        print('Xi-квадрат:', xi_2_estimation)\n",
    "\n",
    "    plot_graphs(theoretical_characteristics, empirical_characteristics)"
   ]
  },
  {
   "cell_type": "code",
   "execution_count": 3,
   "metadata": {},
   "outputs": [
    {
     "name": "stdout",
     "output_type": "stream",
     "text": [
      "test 14\n",
      "Характеристики СМО столовой: Количество касс n=1,\n",
      " Интенсивность потока посетителей X=2,\n",
      " Интенсивность отпуска блюд mu=5,\n",
      " Вероятность того, что посетитель возьмет 2 блюда вместо 1-го q=0.0,\n",
      " Среднее время съедения 1-го блюда t=1,\n",
      "\n",
      "                                                   Теоретические характеристики    Эмпирические характеристики\n",
      "-----------------------------------------------  ------------------------------  -----------------------------\n",
      "p0                                                                   0.6                             0.118403\n",
      "p1                                                                   0.24                            0.202472\n",
      "p2                                                                   0.096                           0.219614\n",
      "p3                                                                   0.0384                          0.175363\n",
      "p4                                                                   0.01536                         0.117407\n",
      "p5                                                                   0.006144                        0.0756466\n",
      "p6                                                                   0.0024576                       0.0399163\n",
      "p7                                                                   0.00098304                      0.0216774\n",
      "Q (относительная пропускная способность)                             1                               1\n",
      "A (абсолютная пропускная способность)                                2                               2\n",
      "L СМО (среднее число посетителей в столовой)                         2.66667                         2.67713\n",
      "L очереди (среднее число посетителей в очереди)                      0.266667                        0.281308\n",
      "t СМО (среднее время посетителя в столовой)                          1.33333                         1.32712\n",
      "t очереди (среднее время посетителя в очереди)                       0.133333                        0.137343\n",
      "\n",
      "\n",
      "1. Столовая имеет устойчиый стационарный режим работы\n"
     ]
    },
    {
     "ename": "IndexError",
     "evalue": "list index out of range",
     "output_type": "error",
     "traceback": [
      "\u001b[1;31m---------------------------------------------------------------------------\u001b[0m",
      "\u001b[1;31mIndexError\u001b[0m                                Traceback (most recent call last)",
      "\u001b[1;32m~\\AppData\\Local\\Temp/ipykernel_54256/1050319890.py\u001b[0m in \u001b[0;36m<module>\u001b[1;34m\u001b[0m\n\u001b[1;32m----> 1\u001b[1;33m \u001b[0mtest_analyse\u001b[0m\u001b[1;33m(\u001b[0m\u001b[0mX\u001b[0m \u001b[1;33m=\u001b[0m \u001b[1;36m2\u001b[0m\u001b[1;33m,\u001b[0m \u001b[0mmu\u001b[0m \u001b[1;33m=\u001b[0m \u001b[1;36m5\u001b[0m\u001b[1;33m,\u001b[0m \u001b[0mq\u001b[0m \u001b[1;33m=\u001b[0m \u001b[1;36m0.0\u001b[0m\u001b[1;33m,\u001b[0m \u001b[0mt\u001b[0m \u001b[1;33m=\u001b[0m \u001b[1;36m1\u001b[0m\u001b[1;33m)\u001b[0m\u001b[1;33m\u001b[0m\u001b[1;33m\u001b[0m\u001b[0m\n\u001b[0m",
      "\u001b[1;32m~\\AppData\\Local\\Temp/ipykernel_54256/3649464147.py\u001b[0m in \u001b[0;36mtest_analyse\u001b[1;34m(X, mu, q, t, test_time)\u001b[0m\n\u001b[0;32m     25\u001b[0m             \u001b[0mempirical_characteristics\u001b[0m\u001b[1;33m[\u001b[0m\u001b[0mi\u001b[0m\u001b[1;33m]\u001b[0m \u001b[1;32mfor\u001b[0m \u001b[0mi\u001b[0m \u001b[1;32min\u001b[0m \u001b[0mrange\u001b[0m\u001b[1;33m(\u001b[0m\u001b[1;36m1\u001b[0m\u001b[1;33m,\u001b[0m \u001b[0mlen\u001b[0m\u001b[1;33m(\u001b[0m\u001b[0mempirical_characteristics\u001b[0m\u001b[1;33m)\u001b[0m\u001b[1;33m)\u001b[0m\u001b[1;33m\u001b[0m\u001b[1;33m\u001b[0m\u001b[0m\n\u001b[0;32m     26\u001b[0m         ]\n\u001b[1;32m---> 27\u001b[1;33m         \u001b[0mxi_2_estimation\u001b[0m \u001b[1;33m=\u001b[0m \u001b[0mget_xi_2\u001b[0m\u001b[1;33m(\u001b[0m\u001b[0me_estimation_list\u001b[0m\u001b[1;33m,\u001b[0m \u001b[0mt_estimation_list\u001b[0m\u001b[1;33m)\u001b[0m\u001b[1;33m\u001b[0m\u001b[1;33m\u001b[0m\u001b[0m\n\u001b[0m\u001b[0;32m     28\u001b[0m         \u001b[0mprint\u001b[0m\u001b[1;33m(\u001b[0m\u001b[1;34m'Xi-квадрат:'\u001b[0m\u001b[1;33m,\u001b[0m \u001b[0mxi_2_estimation\u001b[0m\u001b[1;33m)\u001b[0m\u001b[1;33m\u001b[0m\u001b[1;33m\u001b[0m\u001b[0m\n\u001b[0;32m     29\u001b[0m \u001b[1;33m\u001b[0m\u001b[0m\n",
      "\u001b[1;32md:\\study\\7_semestr\\MMOD\\MMoD\\canteen_analysis.py\u001b[0m in \u001b[0;36mget_xi_2\u001b[1;34m(o, e)\u001b[0m\n\u001b[0;32m     92\u001b[0m \u001b[1;33m\u001b[0m\u001b[0m\n\u001b[0;32m     93\u001b[0m \u001b[1;32mdef\u001b[0m \u001b[0mget_xi_2\u001b[0m\u001b[1;33m(\u001b[0m\u001b[0mo\u001b[0m\u001b[1;33m,\u001b[0m \u001b[0me\u001b[0m\u001b[1;33m)\u001b[0m\u001b[1;33m:\u001b[0m\u001b[1;33m\u001b[0m\u001b[1;33m\u001b[0m\u001b[0m\n\u001b[1;32m---> 94\u001b[1;33m     \u001b[1;32mreturn\u001b[0m \u001b[0msum\u001b[0m\u001b[1;33m(\u001b[0m\u001b[1;33m(\u001b[0m\u001b[1;33m(\u001b[0m\u001b[0mo\u001b[0m\u001b[1;33m[\u001b[0m\u001b[0mi\u001b[0m\u001b[1;33m]\u001b[0m \u001b[1;33m-\u001b[0m \u001b[0me\u001b[0m\u001b[1;33m[\u001b[0m\u001b[0mi\u001b[0m\u001b[1;33m]\u001b[0m\u001b[1;33m)\u001b[0m \u001b[1;33m**\u001b[0m \u001b[1;36m2\u001b[0m\u001b[1;33m)\u001b[0m \u001b[1;33m/\u001b[0m \u001b[0me\u001b[0m\u001b[1;33m[\u001b[0m\u001b[0mi\u001b[0m\u001b[1;33m]\u001b[0m \u001b[1;32mfor\u001b[0m \u001b[0mi\u001b[0m \u001b[1;32min\u001b[0m \u001b[0mrange\u001b[0m\u001b[1;33m(\u001b[0m\u001b[0mlen\u001b[0m\u001b[1;33m(\u001b[0m\u001b[0mo\u001b[0m\u001b[1;33m)\u001b[0m\u001b[1;33m)\u001b[0m\u001b[1;33m)\u001b[0m\u001b[1;33m\u001b[0m\u001b[1;33m\u001b[0m\u001b[0m\n\u001b[0m\u001b[0;32m     95\u001b[0m \u001b[1;33m\u001b[0m\u001b[0m\n\u001b[0;32m     96\u001b[0m \u001b[1;33m\u001b[0m\u001b[0m\n",
      "\u001b[1;32md:\\study\\7_semestr\\MMOD\\MMoD\\canteen_analysis.py\u001b[0m in \u001b[0;36m<genexpr>\u001b[1;34m(.0)\u001b[0m\n\u001b[0;32m     92\u001b[0m \u001b[1;33m\u001b[0m\u001b[0m\n\u001b[0;32m     93\u001b[0m \u001b[1;32mdef\u001b[0m \u001b[0mget_xi_2\u001b[0m\u001b[1;33m(\u001b[0m\u001b[0mo\u001b[0m\u001b[1;33m,\u001b[0m \u001b[0me\u001b[0m\u001b[1;33m)\u001b[0m\u001b[1;33m:\u001b[0m\u001b[1;33m\u001b[0m\u001b[1;33m\u001b[0m\u001b[0m\n\u001b[1;32m---> 94\u001b[1;33m     \u001b[1;32mreturn\u001b[0m \u001b[0msum\u001b[0m\u001b[1;33m(\u001b[0m\u001b[1;33m(\u001b[0m\u001b[1;33m(\u001b[0m\u001b[0mo\u001b[0m\u001b[1;33m[\u001b[0m\u001b[0mi\u001b[0m\u001b[1;33m]\u001b[0m \u001b[1;33m-\u001b[0m \u001b[0me\u001b[0m\u001b[1;33m[\u001b[0m\u001b[0mi\u001b[0m\u001b[1;33m]\u001b[0m\u001b[1;33m)\u001b[0m \u001b[1;33m**\u001b[0m \u001b[1;36m2\u001b[0m\u001b[1;33m)\u001b[0m \u001b[1;33m/\u001b[0m \u001b[0me\u001b[0m\u001b[1;33m[\u001b[0m\u001b[0mi\u001b[0m\u001b[1;33m]\u001b[0m \u001b[1;32mfor\u001b[0m \u001b[0mi\u001b[0m \u001b[1;32min\u001b[0m \u001b[0mrange\u001b[0m\u001b[1;33m(\u001b[0m\u001b[0mlen\u001b[0m\u001b[1;33m(\u001b[0m\u001b[0mo\u001b[0m\u001b[1;33m)\u001b[0m\u001b[1;33m)\u001b[0m\u001b[1;33m)\u001b[0m\u001b[1;33m\u001b[0m\u001b[1;33m\u001b[0m\u001b[0m\n\u001b[0m\u001b[0;32m     95\u001b[0m \u001b[1;33m\u001b[0m\u001b[0m\n\u001b[0;32m     96\u001b[0m \u001b[1;33m\u001b[0m\u001b[0m\n",
      "\u001b[1;31mIndexError\u001b[0m: list index out of range"
     ]
    }
   ],
   "source": [
    "test_analyse(X = 2, mu = 5, q = 0.0, t = 1)"
   ]
  },
  {
   "cell_type": "code",
   "execution_count": null,
   "metadata": {},
   "outputs": [],
   "source": [
    "test_analyse(X = 2, mu = 1, q = 0.4, t = 1)"
   ]
  }
 ],
 "metadata": {
  "interpreter": {
   "hash": "ac59ebe37160ed0dfa835113d9b8498d9f09ceb179beaac4002f036b9467c963"
  },
  "kernelspec": {
   "display_name": "Python 3.9.0 64-bit",
   "language": "python",
   "name": "python3"
  },
  "language_info": {
   "codemirror_mode": {
    "name": "ipython",
    "version": 3
   },
   "file_extension": ".py",
   "mimetype": "text/x-python",
   "name": "python",
   "nbconvert_exporter": "python",
   "pygments_lexer": "ipython3",
   "version": "3.9.0"
  },
  "orig_nbformat": 4
 },
 "nbformat": 4,
 "nbformat_minor": 2
}
