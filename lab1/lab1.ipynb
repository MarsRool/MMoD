{
 "cells": [
  {
   "cell_type": "code",
   "execution_count": 57,
   "metadata": {},
   "outputs": [],
   "source": [
    "import numpy.random as rand\n",
    "import matplotlib.pyplot as plt\n",
    "import scipy.stats as st\n",
    "\n",
    "count = 10000\n",
    "\n",
    "P = [\n",
    "    [0.13, 0.04, 0.19],\n",
    "    [0.08, 0.15, 0.07],\n",
    "    [0.11, 0.11, 0.12]]\n",
    "#    0.32, 0.30, 0.38\n",
    "\n",
    "sum_by_x = []\n",
    "x = 0\n",
    "for i in range(len(P[0])):\n",
    "    for j in range(len(P)):\n",
    "        x += P[j][i]\n",
    "    sum_by_x.append(x)\n",
    "\n",
    "\n",
    "def get_x_index(value):\n",
    "    for i in range(len(sum_by_x)):\n",
    "        if value < sum_by_x[i]:\n",
    "            return i\n",
    "\n",
    "\n",
    "def get_y_index_by_x(value, x_index):\n",
    "    y = 0\n",
    "    for i in range(len(P)):\n",
    "        y += P[i][x_index]\n",
    "        if value < y:\n",
    "            return i\n",
    "    print(\"ERROR: value = \", value)"
   ]
  },
  {
   "cell_type": "code",
   "execution_count": 58,
   "metadata": {},
   "outputs": [],
   "source": [
    "rand_x = rand.randint(0, 999, count) / 1000\n",
    "rand_y = rand.randint(0, 999, count) / 1000\n",
    "result = [\n",
    "    [0, 0, 0],\n",
    "    [0, 0, 0],\n",
    "    [0, 0, 0]]\n",
    "for i in range(count):\n",
    "    x_index = get_x_index(rand_x[i])\n",
    "    sum_one_line = 0\n",
    "    for j in range(len(P)):\n",
    "        sum_one_line += P[j][x_index]\n",
    "    y_variant = rand_y[i] * sum_one_line\n",
    "    y_index = get_y_index_by_x(y_variant, x_index)\n",
    "    result[y_index][x_index] += 1\n",
    "    # x_index и y_index are x and y probability indices"
   ]
  },
  {
   "cell_type": "code",
   "execution_count": 59,
   "metadata": {},
   "outputs": [
    {
     "name": "stdout",
     "output_type": "stream",
     "text": [
      "Heatmaps are similar considering 10000 scale, which is equal to numbers count\n"
     ]
    },
    {
     "data": {
      "image/png": "[encoded data removed]",
      "text/plain": [
       "<Figure size 1152x432 with 4 Axes>"
      ]
     },
     "metadata": {
      "needs_background": "light"
     },
     "output_type": "display_data"
    }
   ],
   "source": [
    "fig, (ax1, ax2) = plt.subplots(1, 2, figsize=(16, 6))\n",
    "\n",
    "ax1.set_title('Theoretical probability matrix')\n",
    "im1 = ax1.matshow(P, cmap='hot', interpolation='nearest')\n",
    "\n",
    "ax2.set_title('Empirical probability matrix')\n",
    "im2 = ax2.matshow(result, cmap='hot', interpolation='nearest')\n",
    "\n",
    "fig.colorbar(im1, ax=ax1)\n",
    "fig.colorbar(im2, ax=ax2)\n",
    "print(\"Heatmaps are similar considering 10000 scale, which is equal to numbers count\")"
   ]
  }
 ],
 "metadata": {
  "interpreter": {
   "hash": "ac59ebe37160ed0dfa835113d9b8498d9f09ceb179beaac4002f036b9467c963"
  },
  "kernelspec": {
   "display_name": "Python 3.9.0 64-bit",
   "name": "python3"
  },
  "language_info": {
   "codemirror_mode": {
    "name": "ipython",
    "version": 3
   },
   "file_extension": ".py",
   "mimetype": "text/x-python",
   "name": "python",
   "nbconvert_exporter": "python",
   "pygments_lexer": "ipython3",
   "version": "3.9.0"
  },
  "orig_nbformat": 4
 },
 "nbformat": 4,
 "nbformat_minor": 2
}
